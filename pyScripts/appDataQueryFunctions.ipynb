{
 "cells": [
  {
   "cell_type": "code",
   "execution_count": 1,
   "metadata": {},
   "outputs": [
    {
     "name": "stdout",
     "output_type": "stream",
     "text": [
      "collections: ['counties_geocoding', 'states', 'counties', 'census_datadump', 'popincome_data', 'insurance_data', 'counties_sub', 'deathrate_data'] \n",
      "\n"
     ]
    }
   ],
   "source": [
    "import json\n",
    "from us import states\n",
    "from pymongo import MongoClient\n",
    "\n",
    "#Connect to Mongo DB\n",
    "myclient = MongoClient(\"mongodb://localhost:27017/\")\n",
    "  \n",
    "#Census Data\n",
    "db = myclient[\"CensusData\"]\n",
    "\n",
    "collections = db.list_collection_names()\n",
    "print (\"collections:\", collections, \"\\n\")\n",
    "\n",
    "def get_state_data(state_fips):\n",
    "    \n"
   ]
  },
  {
   "cell_type": "code",
   "execution_count": 12,
   "metadata": {},
   "outputs": [],
   "source": [
    "popincome_data = db.popincome_data.find()\n",
    "\n",
    "counties_collected = []\n",
    "# List to store the outputed dictionaries\n",
    "counties_data = []\n",
    "for popincome in popincome_data:\n",
    "\n",
    "    insurance_data = db.insurance_data.find(({\"state\": popincome[\"state\"],\n",
    "                                          \"county\": popincome[\"county\"],\n",
    "                                          \"time\":popincome[\"Year\"]}),{'_id': False})\n",
    "\n",
    "    #If this is the first time encountering a particular county, creates a new dictionary for it, stores data\n",
    "    if popincome[\"Name\"] not in counties_collected:\n",
    "        counties_collected.append(popincome[\"Name\"])\n",
    "        json = {}\n",
    "        json[\"Name\"] = popincome[\"Name\"],\n",
    "        json[\"state\"] = popincome[\"state\"]\n",
    "        json[\"county\"] = popincome[\"county\"]\n",
    "        information = {}\n",
    "        information[\"Population\"] = popincome[\"Population\"],\n",
    "        information[\"Median Age\"] = popincome[\"Median Age\"]\n",
    "        information[\"Per Capita Income\"] = popincome[\"Per Capita Income\"]\n",
    "        information[\"Poverty Count\"] = popincome[\"Poverty Count\"]\n",
    "        for insurance_info in insurance_data:\n",
    "            information[\"Insured\"] = insurance_data[\"NIC_PT\"]\n",
    "            information[\"Uninsured\"] = insurance_data[\"NUI_PT\"]\n",
    "        # information['Educational Attainment'] = popincome['Educational Attainment']\n",
    "        json[popincome[\"Year\"]] = information\n",
    "        counties_data.append(json)\n",
    "        \n",
    "    # If it has arleady encounterd the county, appends the standing entry and stores the new year's data\n",
    "    else:\n",
    "        location = counties_collected.index(popincome[\"Name\"])\n",
    "        json = counties_data[location]\n",
    "        information = {}\n",
    "        information[\"Population\"] = popincome[\"Population\"],\n",
    "        information[\"Median Age\"] = popincome[\"Median Age\"]\n",
    "        information[\"Per Capita Income\"] = popincome[\"Per Capita Income\"]\n",
    "        information[\"Poverty Count\"] = popincome[\"Poverty Count\"]\n",
    "        # information['Educational Attainment'] = popincome['Educational Attainment']\n",
    "        json[popincome[\"Year\"]] = information"
   ]
  },
  {
   "cell_type": "code",
   "execution_count": 3,
   "metadata": {},
   "outputs": [],
   "source": [
    "county_ids = []\n",
    "for county in counties_data:\n",
    "    county_id = county[\"state\"]+county[\"county\"]\n",
    "    county_ids.append(county_id)"
   ]
  },
  {
   "cell_type": "code",
   "execution_count": 7,
   "metadata": {},
   "outputs": [],
   "source": [
    "counties_list = db.counties.find()\n",
    "counties_geojson_data = db.counties_geocoding.find({},{\"_id\":False})\n",
    "\n",
    "counties_geojson_final=[]\n",
    "\n",
    "failed_county_lookup=[]\n",
    "for county_geojson in counties_geojson_data:\n",
    "    lookup_county = county_geojson[\"properties\"]['STATE'] + county_geojson[\"properties\"]['COUNTY']\n",
    "    try:\n",
    "        #Attempts to locate any county which has the same county_id in the censusJson List\n",
    "        location = county_ids.index(str(lookup_county))\n",
    "        matching_county_data = counties_data[location]\n",
    "        county_geojson[\"properties\"][2018] = matching_county_data[2018]\n",
    "        county_geojson[\"properties\"][2019] = matching_county_data[2019]\n",
    "        county_geojson[\"properties\"][2020] = matching_county_data[2020]\n",
    "        counties_geojson_final.append(county_geojson)\n",
    "    except Exception:\n",
    "        #If it cannot locate it stores the id for this county in the fail list\n",
    "        failed_county_lookup.append(lookup_county)"
   ]
  },
  {
   "cell_type": "code",
   "execution_count": 8,
   "metadata": {},
   "outputs": [],
   "source": [
    "for county_geojson in counties_geojson_final:\n",
    "    #Generate the countyID as above for each GeoJson\n",
    "    county_geojson_check = county_geojson[\"properties\"]['STATE'] + county_geojson[\"properties\"]['COUNTY']\n",
    "    if county_geojson_check in failed_county_lookup:\n",
    "        counties_geojson_final.remove(county_geojson)"
   ]
  },
  {
   "cell_type": "code",
   "execution_count": null,
   "metadata": {},
   "outputs": [],
   "source": [
    "# # Get counties\n",
    "# states_l = db.counties.aggregate([{\"$group\": {\"_id\": {\"STATENAME\" :\"$STATENAME\",\"STATEFP\":\"$STATEFP\"}}}])\n",
    "# #https://www2.census.gov/geo/docs/reference/codes/\n",
    "\n",
    "# # for state in states_l:\n",
    "# #     print(state)\n"
   ]
  },
  {
   "cell_type": "code",
   "execution_count": null,
   "metadata": {},
   "outputs": [],
   "source": [
    "# county_geocoding_list = []\n",
    "# # for each county build a json with state FIPS id\n",
    "# for state in states_l:\n",
    "#     cursor_geocoding = db.counties_geocoding.find({\"properties.STATE\": states_l[\"STATENAME\"],\n",
    "#                                                       \"properties.COUNTY\": states_l[\"STATEFP\"]},{'_id': False})\n",
    "#     # query_geocoding = db.counties_geocoding.find(\n",
    "#     #                 {\"$and\": [{ \"properties\" : { \"$elemMatch\" :{ \"STATE\": state_fips.fips}} },\n",
    "#     #                 { \"properties\" : { \"$elemMatch\" :{ \"COUNTY\": county[\"county_fips\"]}}d\n",
    "#     #                 }]})\n",
    "#     for county_geocoding in cursor_geocoding:\n",
    "#         county_geocoding_list[0].append(county_geocoding)\n",
    "#     print (county_geocoding_list)\n",
    "# #     state_fips = us.states[county_geo_record[\"state_id\"]].fips\n",
    "# #     print(county_geo_record[\"state_id\"],state_fips)"
   ]
  }
 ],
 "metadata": {
  "kernelspec": {
   "display_name": "base",
   "language": "python",
   "name": "python3"
  },
  "language_info": {
   "codemirror_mode": {
    "name": "ipython",
    "version": 3
   },
   "file_extension": ".py",
   "mimetype": "text/x-python",
   "name": "python",
   "nbconvert_exporter": "python",
   "pygments_lexer": "ipython3",
   "version": "3.9.13"
  },
  "orig_nbformat": 4,
  "vscode": {
   "interpreter": {
    "hash": "88279d2366fe020547cde40dd65aa0e3aa662a6ec1f3ca12d88834876c85e1a6"
   }
  }
 },
 "nbformat": 4,
 "nbformat_minor": 2
}
