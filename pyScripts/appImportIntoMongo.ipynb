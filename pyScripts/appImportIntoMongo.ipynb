{
 "cells": [
  {
   "cell_type": "code",
   "execution_count": 6,
   "metadata": {},
   "outputs": [],
   "source": [
    "import json\n",
    "from pymongo import MongoClient\n",
    " \n",
    " \n",
    "# Making Connection\n",
    "myclient = MongoClient(\"mongodb://localhost:27017/\")\n",
    "  \n",
    "# database\n",
    "db = myclient[\"CensusData\"]\n",
    "  \n",
    "# Created or Switched to collection\n",
    "# names: GeeksForGeeks\n",
    "Collection = db[\"counties_geocode\"]\n",
    " \n",
    "# Loading or Opening the json file\n",
    "with open('Data/gz_2010_us_050_00_5m_rows.json') as file:\n",
    "    file_data = json.load(file)\n",
    "     \n",
    "# Inserting the loaded data in the Collection\n",
    "# if JSON contains data more than one entry\n",
    "# insert_many is used else insert_one is used\n",
    "if isinstance(file_data, list):\n",
    "    Collection.insert_many(file_data) \n",
    "else:\n",
    "    Collection.insert_one(file_data)"
   ]
  }
 ],
 "metadata": {
  "kernelspec": {
   "display_name": "base",
   "language": "python",
   "name": "python3"
  },
  "language_info": {
   "codemirror_mode": {
    "name": "ipython",
    "version": 3
   },
   "file_extension": ".py",
   "mimetype": "text/x-python",
   "name": "python",
   "nbconvert_exporter": "python",
   "pygments_lexer": "ipython3",
   "version": "3.9.13 (main, Aug 25 2022, 23:51:50) [MSC v.1916 64 bit (AMD64)]"
  },
  "orig_nbformat": 4,
  "vscode": {
   "interpreter": {
    "hash": "88279d2366fe020547cde40dd65aa0e3aa662a6ec1f3ca12d88834876c85e1a6"
   }
  }
 },
 "nbformat": 4,
 "nbformat_minor": 2
}
