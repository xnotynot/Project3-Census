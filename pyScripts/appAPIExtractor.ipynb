{
 "cells": [
  {
   "attachments": {},
   "cell_type": "markdown",
   "metadata": {},
   "source": [
    "# Project 3 - Data Delivery, Backend, Visualization\n",
    "## The Data extraction and Transformation Module"
   ]
  },
  {
   "cell_type": "code",
   "execution_count": 2,
   "metadata": {},
   "outputs": [],
   "source": [
    "# Dependencies\n",
    "import pandas as pd\n",
    "import requests\n",
    "import json\n",
    "from pymongo import MongoClient\n",
    "from us import states\n",
    "\n",
    "\n",
    "# Census API Key\n",
    "from census import Census\n",
    "from config import api_key\n",
    "c = Census(api_key, year=2021)"
   ]
  },
  {
   "attachments": {},
   "cell_type": "markdown",
   "metadata": {},
   "source": [
    "## Get Population, Income and Per-Capita Data via API"
   ]
  },
  {
   "cell_type": "code",
   "execution_count": 4,
   "metadata": {},
   "outputs": [
    {
     "data": {
      "text/html": [
       "<div>\n",
       "<style scoped>\n",
       "    .dataframe tbody tr th:only-of-type {\n",
       "        vertical-align: middle;\n",
       "    }\n",
       "\n",
       "    .dataframe tbody tr th {\n",
       "        vertical-align: top;\n",
       "    }\n",
       "\n",
       "    .dataframe thead th {\n",
       "        text-align: right;\n",
       "    }\n",
       "</style>\n",
       "<table border=\"1\" class=\"dataframe\">\n",
       "  <thead>\n",
       "    <tr style=\"text-align: right;\">\n",
       "      <th></th>\n",
       "      <th>Name</th>\n",
       "      <th>Population</th>\n",
       "      <th>Median Age</th>\n",
       "      <th>Per Capita Income</th>\n",
       "      <th>Poverty Count</th>\n",
       "      <th>state</th>\n",
       "      <th>county</th>\n",
       "      <th>Year</th>\n",
       "    </tr>\n",
       "  </thead>\n",
       "  <tbody>\n",
       "    <tr>\n",
       "      <th>0</th>\n",
       "      <td>Mineral County, Montana</td>\n",
       "      <td>4211.0</td>\n",
       "      <td>52.6</td>\n",
       "      <td>23744.0</td>\n",
       "      <td>705.0</td>\n",
       "      <td>30</td>\n",
       "      <td>061</td>\n",
       "      <td>2018</td>\n",
       "    </tr>\n",
       "    <tr>\n",
       "      <th>1</th>\n",
       "      <td>Petroleum County, Montana</td>\n",
       "      <td>432.0</td>\n",
       "      <td>52.1</td>\n",
       "      <td>32565.0</td>\n",
       "      <td>35.0</td>\n",
       "      <td>30</td>\n",
       "      <td>069</td>\n",
       "      <td>2018</td>\n",
       "    </tr>\n",
       "    <tr>\n",
       "      <th>2</th>\n",
       "      <td>Powell County, Montana</td>\n",
       "      <td>6861.0</td>\n",
       "      <td>45.3</td>\n",
       "      <td>25060.0</td>\n",
       "      <td>666.0</td>\n",
       "      <td>30</td>\n",
       "      <td>077</td>\n",
       "      <td>2018</td>\n",
       "    </tr>\n",
       "    <tr>\n",
       "      <th>3</th>\n",
       "      <td>Sanders County, Montana</td>\n",
       "      <td>11521.0</td>\n",
       "      <td>53.2</td>\n",
       "      <td>23822.0</td>\n",
       "      <td>2210.0</td>\n",
       "      <td>30</td>\n",
       "      <td>089</td>\n",
       "      <td>2018</td>\n",
       "    </tr>\n",
       "    <tr>\n",
       "      <th>4</th>\n",
       "      <td>Wibaux County, Montana</td>\n",
       "      <td>1175.0</td>\n",
       "      <td>46.0</td>\n",
       "      <td>23137.0</td>\n",
       "      <td>180.0</td>\n",
       "      <td>30</td>\n",
       "      <td>109</td>\n",
       "      <td>2018</td>\n",
       "    </tr>\n",
       "  </tbody>\n",
       "</table>\n",
       "</div>"
      ],
      "text/plain": [
       "                        Name  Population  Median Age  Per Capita Income  \\\n",
       "0    Mineral County, Montana      4211.0        52.6            23744.0   \n",
       "1  Petroleum County, Montana       432.0        52.1            32565.0   \n",
       "2     Powell County, Montana      6861.0        45.3            25060.0   \n",
       "3    Sanders County, Montana     11521.0        53.2            23822.0   \n",
       "4     Wibaux County, Montana      1175.0        46.0            23137.0   \n",
       "\n",
       "   Poverty Count state county  Year  \n",
       "0          705.0    30    061  2018  \n",
       "1           35.0    30    069  2018  \n",
       "2          666.0    30    077  2018  \n",
       "3         2210.0    30    089  2018  \n",
       "4          180.0    30    109  2018  "
      ]
     },
     "execution_count": 4,
     "metadata": {},
     "output_type": "execute_result"
    }
   ],
   "source": [
    "\n",
    "years=[2018,2019,2020]\n",
    "complete_years=pd.DataFrame()\n",
    "\n",
    "for curr_year in years:\n",
    "    census_data = c.acs5.state_county(fields = ('NAME', \"B01003_001E\", \"B01002_001E\", \"B19301_001E\", \"B17001_002E\"),\n",
    "                                      state_fips = \"*\",\n",
    "                                      county_fips = \"*\", year = curr_year)\n",
    "\n",
    "    census_data_curr_year=pd.DataFrame(census_data)\n",
    "    # Column Reordering\n",
    "# https://api.census.gov/data/2019/acs/acs5/variables.html\n",
    "    census_data_curr_year.rename(columns={\"B01003_001E\": \"Population\",\n",
    "                                     \"B01002_001E\": \"Median Age\",\n",
    "                                      \"B19013_001E\": \"Household Income\",\n",
    "                                     \"B19301_001E\": \"Per Capita Income\",\n",
    "                                      \"B17001_002E\": \"Poverty Count\",\n",
    "                                      \"NAME\": \"Name\"},inplace=True)\n",
    "\n",
    "    census_data_curr_year[\"Year\"]=curr_year\n",
    "    frames=[complete_years,census_data_curr_year]\n",
    "    complete_years=pd.concat(frames)\n",
    "complete_years.drop()\n",
    "complete_years.head()"
   ]
  },
  {
   "cell_type": "code",
   "execution_count": 11,
   "metadata": {},
   "outputs": [],
   "source": [
    "json_years_str = complete_years.to_json(orient=\"records\")\n",
    "# json_years = json.loads(json_years_str)\n",
    "with open(\"../Data/popincome_data.json\", \"w\") as outfile:\n",
    "    outfile.write(json_years_str)"
   ]
  },
  {
   "attachments": {},
   "cell_type": "markdown",
   "metadata": {},
   "source": [
    "## Exract Insurance Data"
   ]
  },
  {
   "cell_type": "code",
   "execution_count": 13,
   "metadata": {},
   "outputs": [],
   "source": [
    "api_string=f\"&key={api_key}\"\n",
    "base_url=\"https://api.census.gov/data/timeseries/healthins/sahie?get=NIC_PT,NUI_PT,NAME&for=county:*&in=state:*&\"\n",
    "insurance_data=[]\n",
    "complete_insurance_df=pd.DataFrame()\n",
    "for curr_year in years:\n",
    "    time=f\"time={curr_year}\"\n",
    "    url=base_url+time+api_string\n",
    "    curr_data = requests.get(url).json()\n",
    "    insurance_data.append(curr_data)\n",
    "    names=curr_data[0]\n",
    "    curr_insurance_df=pd.DataFrame(curr_data,columns=names)\n",
    "    curr_insurance_df=curr_insurance_df.drop(curr_insurance_df.index[0])\n",
    "    frames=[complete_insurance_df,curr_insurance_df]\n",
    "    complete_insurance_df=pd.concat(frames)"
   ]
  },
  {
   "cell_type": "code",
   "execution_count": 15,
   "metadata": {},
   "outputs": [],
   "source": [
    "complete_insurance_str = complete_insurance_df.to_json(orient=\"records\")\n",
    "complete_insurance_json = json.loads(complete_insurance_str)\n",
    "with open(\"../Data/insurance_data.json\", \"w\") as outfile:\n",
    "    outfile.write(complete_insurance_str)"
   ]
  },
  {
   "attachments": {},
   "cell_type": "markdown",
   "metadata": {},
   "source": [
    "## Loading Json Data into MongoDB"
   ]
  },
  {
   "cell_type": "code",
   "execution_count": null,
   "metadata": {},
   "outputs": [],
   "source": [
    "# Making Connection\n",
    "myclient = MongoClient(\"mongodb://localhost:27017/\")\n",
    "  \n",
    "# database\n",
    "db = myclient[\"CensusData\"]\n",
    "  \n",
    "# Created or Switched to collection\n",
    "# names: GeeksForGeeks\n",
    "Collection = db[\"counties_geocode\"]\n",
    " \n",
    "# # Loading or Opening the json file\n",
    "with open('Data/gz_2010_us_050_00_5m_rows.json') as file:\n",
    "    file_data = json.load(file)\n",
    "     \n",
    "# Inserting the loaded data in the Collection\n",
    "# if JSON contains data more than one entry\n",
    "# insert_many is used else insert_one is used\n",
    "if isinstance(file_data, list):\n",
    "    Collection.insert_many(file_data) \n",
    "else:\n",
    "    Collection.insert_one(file_data)"
   ]
  }
 ],
 "metadata": {
  "kernelspec": {
   "display_name": "base",
   "language": "python",
   "name": "python3"
  },
  "language_info": {
   "codemirror_mode": {
    "name": "ipython",
    "version": 3
   },
   "file_extension": ".py",
   "mimetype": "text/x-python",
   "name": "python",
   "nbconvert_exporter": "python",
   "pygments_lexer": "ipython3",
   "version": "3.9.13"
  },
  "orig_nbformat": 4,
  "vscode": {
   "interpreter": {
    "hash": "88279d2366fe020547cde40dd65aa0e3aa662a6ec1f3ca12d88834876c85e1a6"
   }
  }
 },
 "nbformat": 4,
 "nbformat_minor": 2
}
