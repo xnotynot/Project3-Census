{
 "cells": [
  {
   "cell_type": "code",
   "execution_count": 1,
   "id": "b0c32bd7",
   "metadata": {},
   "outputs": [],
   "source": [
    "# Dependencies\n",
    "from bs4 import BeautifulSoup\n",
    "import requests\n",
    "import pymongo\n",
    "import pandas as pd\n",
    "import us\n",
    "from us import states\n",
    "from census import Census\n",
    "import json\n",
    "# Census API Key\n",
    "from config import api_key\n",
    "c = Census(api_key, year=2021)"
   ]
  },
  {
   "cell_type": "code",
   "execution_count": 3,
   "id": "0d152dd7",
   "metadata": {},
   "outputs": [
    {
     "data": {
      "text/html": [
       "<div>\n",
       "<style scoped>\n",
       "    .dataframe tbody tr th:only-of-type {\n",
       "        vertical-align: middle;\n",
       "    }\n",
       "\n",
       "    .dataframe tbody tr th {\n",
       "        vertical-align: top;\n",
       "    }\n",
       "\n",
       "    .dataframe thead th {\n",
       "        text-align: right;\n",
       "    }\n",
       "</style>\n",
       "<table border=\"1\" class=\"dataframe\">\n",
       "  <thead>\n",
       "    <tr style=\"text-align: right;\">\n",
       "      <th></th>\n",
       "      <th>NAME</th>\n",
       "      <th>Population</th>\n",
       "      <th>Median Age</th>\n",
       "      <th>Per Capita Income</th>\n",
       "      <th>Poverty Count</th>\n",
       "      <th>Educational Attainment</th>\n",
       "      <th>state</th>\n",
       "      <th>county</th>\n",
       "      <th>Year</th>\n",
       "    </tr>\n",
       "  </thead>\n",
       "  <tbody>\n",
       "    <tr>\n",
       "      <th>0</th>\n",
       "      <td>Sedgwick County, Kansas</td>\n",
       "      <td>512064.0</td>\n",
       "      <td>35.2</td>\n",
       "      <td>28673.0</td>\n",
       "      <td>70537.0</td>\n",
       "      <td>317622.0</td>\n",
       "      <td>20</td>\n",
       "      <td>173</td>\n",
       "      <td>2018</td>\n",
       "    </tr>\n",
       "    <tr>\n",
       "      <th>1</th>\n",
       "      <td>Republic County, Kansas</td>\n",
       "      <td>4686.0</td>\n",
       "      <td>51.1</td>\n",
       "      <td>28901.0</td>\n",
       "      <td>490.0</td>\n",
       "      <td>3352.0</td>\n",
       "      <td>20</td>\n",
       "      <td>157</td>\n",
       "      <td>2018</td>\n",
       "    </tr>\n",
       "    <tr>\n",
       "      <th>2</th>\n",
       "      <td>Graham County, Kansas</td>\n",
       "      <td>2545.0</td>\n",
       "      <td>51.9</td>\n",
       "      <td>26685.0</td>\n",
       "      <td>235.0</td>\n",
       "      <td>1860.0</td>\n",
       "      <td>20</td>\n",
       "      <td>065</td>\n",
       "      <td>2018</td>\n",
       "    </tr>\n",
       "    <tr>\n",
       "      <th>3</th>\n",
       "      <td>Douglas County, Kansas</td>\n",
       "      <td>119319.0</td>\n",
       "      <td>29.5</td>\n",
       "      <td>30315.0</td>\n",
       "      <td>20749.0</td>\n",
       "      <td>65877.0</td>\n",
       "      <td>20</td>\n",
       "      <td>045</td>\n",
       "      <td>2018</td>\n",
       "    </tr>\n",
       "    <tr>\n",
       "      <th>4</th>\n",
       "      <td>Sheridan County, Kansas</td>\n",
       "      <td>2506.0</td>\n",
       "      <td>44.3</td>\n",
       "      <td>31526.0</td>\n",
       "      <td>126.0</td>\n",
       "      <td>1774.0</td>\n",
       "      <td>20</td>\n",
       "      <td>179</td>\n",
       "      <td>2018</td>\n",
       "    </tr>\n",
       "  </tbody>\n",
       "</table>\n",
       "</div>"
      ],
      "text/plain": [
       "                      NAME  Population  Median Age  Per Capita Income  \\\n",
       "0  Sedgwick County, Kansas    512064.0        35.2            28673.0   \n",
       "1  Republic County, Kansas      4686.0        51.1            28901.0   \n",
       "2    Graham County, Kansas      2545.0        51.9            26685.0   \n",
       "3   Douglas County, Kansas    119319.0        29.5            30315.0   \n",
       "4  Sheridan County, Kansas      2506.0        44.3            31526.0   \n",
       "\n",
       "   Poverty Count  Educational Attainment state county  Year  \n",
       "0        70537.0                317622.0    20    173  2018  \n",
       "1          490.0                  3352.0    20    157  2018  \n",
       "2          235.0                  1860.0    20    065  2018  \n",
       "3        20749.0                 65877.0    20    045  2018  \n",
       "4          126.0                  1774.0    20    179  2018  "
      ]
     },
     "execution_count": 3,
     "metadata": {},
     "output_type": "execute_result"
    }
   ],
   "source": [
    "# Years targeted for collection in census data\n",
    "years=[2018,2019,2020]\n",
    "\n",
    "complete_years=pd.DataFrame()\n",
    "for curr_year in years:\n",
    "    census_data = c.acs5.state_county(fields = ('NAME', \"B01003_001E\", \"B01002_001E\", \"B19301_001E\", \"B17001_002E\", \"B27019_001E\"),\n",
    "                                      state_fips = \"*\",\n",
    "                                      county_fips = \"*\", year = curr_year)\n",
    "\n",
    "    census_data_curr_year=pd.DataFrame(census_data)\n",
    "\n",
    "    # Column Reordering and assign the data-types appropriate names\n",
    "    census_data_curr_year.rename(columns={\"B01003_001E\": \"Population\",\n",
    "                                     \"B01002_001E\": \"Median Age\",\n",
    "                                      \"B19013_001E\": \"Household Income\",\n",
    "                                     \"B19301_001E\": \"Per Capita Income\",\n",
    "                                      \"B17001_002E\": \"Poverty Count\",\n",
    "                                     \"B27019_001E\" : \"Educational Attainment\"\n",
    "                                     },inplace=True)\n",
    "\n",
    "    census_data_curr_year[\"Year\"]=curr_year\n",
    "    frames=[complete_years,census_data_curr_year]\n",
    "    complete_years=pd.concat(frames)\n",
    "complete_years.reset_index()\n",
    "complete_years.head()"
   ]
  },
  {
   "cell_type": "code",
   "execution_count": 4,
   "id": "842fa738",
   "metadata": {},
   "outputs": [],
   "source": [
    "# Convert to Data to Json\n",
    "complete_years.to_json(\"complete_years.json\",orient=\"records\")"
   ]
  },
  {
   "cell_type": "code",
   "execution_count": 6,
   "id": "ccbf4d74",
   "metadata": {},
   "outputs": [],
   "source": [
    "# Open Census Json Data, store in varaible\n",
    "states_json_file = open(\"complete_years.json\")\n",
    "state_json_data = json.load(states_json_file)\n",
    "\n",
    "# Open GeoJson Data, store in varaible\n",
    "geojson_file = open(\"static/data/GeoJsons.json\")\n",
    "geojson_data = json.load(geojson_file)"
   ]
  },
  {
   "cell_type": "code",
   "execution_count": 7,
   "id": "ce922764",
   "metadata": {},
   "outputs": [
    {
     "data": {
      "text/plain": [
       "{'name': ('Sedgwick County, Kansas',),\n",
       " 'state': '20',\n",
       " 'county': '173',\n",
       " 2018: {'Population': (512064.0,),\n",
       "  'Median Age': 35.2,\n",
       "  'Per Capita Income': 28673.0,\n",
       "  'Poverty Count': 70537.0,\n",
       "  'Educational Attainment': 317622.0},\n",
       " 2019: {'Population': (513375.0,),\n",
       "  'Median Age': 35.4,\n",
       "  'Per Capita Income': 29530.0,\n",
       "  'Poverty Count': 69506.0,\n",
       "  'Educational Attainment': 320007.0},\n",
       " 2020: {'Population': (515416.0,),\n",
       "  'Median Age': 35.5,\n",
       "  'Per Capita Income': 30340.0,\n",
       "  'Poverty Count': 67860.0,\n",
       "  'Educational Attainment': 322046.0}}"
      ]
     },
     "execution_count": 7,
     "metadata": {},
     "output_type": "execute_result"
    }
   ],
   "source": [
    "## This block is to condense the State Census Jsons. \n",
    "## Outputs a single Json per county, with a key-value pair for each year of data\n",
    "\n",
    "# Utility List to track which counties have been collected\n",
    "counties_collected = []\n",
    "\n",
    "# List to store the outputed dictionaries\n",
    "counties_data = []\n",
    "\n",
    "\n",
    "for county in state_json_data:\n",
    "    \n",
    "    #If this is the first time encountering a particular county, creates a new dictionary for it, stores data\n",
    "    if county[\"NAME\"] not in counties_collected:\n",
    "        counties_collected.append(county[\"NAME\"])\n",
    "        json = {}\n",
    "        json[\"name\"] = county[\"NAME\"],\n",
    "        json[\"state\"] = county[\"state\"]\n",
    "        json[\"county\"] = county[\"county\"]\n",
    "        information = {}\n",
    "        information[\"Population\"] = county[\"Population\"],\n",
    "        information[\"Median Age\"] = county[\"Median Age\"]\n",
    "        information[\"Per Capita Income\"] = county[\"Per Capita Income\"]\n",
    "        information[\"Poverty Count\"] = county[\"Poverty Count\"]\n",
    "        information['Educational Attainment'] = county['Educational Attainment']\n",
    "        json[county[\"Year\"]] = information\n",
    "        counties_data.append(json)\n",
    "        \n",
    "    # If it has arleady encounterd the county, appends the standing entry and stores the new year's data\n",
    "    else:\n",
    "        location = counties_collected.index(county[\"NAME\"])\n",
    "        json = counties_data[location]\n",
    "        information = {}\n",
    "        information[\"Population\"] = county[\"Population\"],\n",
    "        information[\"Median Age\"] = county[\"Median Age\"]\n",
    "        information[\"Per Capita Income\"] = county[\"Per Capita Income\"]\n",
    "        information[\"Poverty Count\"] = county[\"Poverty Count\"]\n",
    "        information['Educational Attainment'] = county['Educational Attainment']\n",
    "        json[county[\"Year\"]] = information\n",
    "        \n",
    "#Sample Output\n",
    "counties_data[0]"
   ]
  },
  {
   "cell_type": "code",
   "execution_count": 8,
   "id": "7b6cebaa",
   "metadata": {},
   "outputs": [],
   "source": [
    "# Create a list containing unique identifies for each county. \n",
    "# These values are a string of state+county (EX: State: '20', County: \"173\" >>> 20173)\n",
    "\n",
    "county_ids = []\n",
    "for county in counties_data:\n",
    "    county_id = county[\"state\"]+county[\"county\"]\n",
    "    county_ids.append(county_id)"
   ]
  },
  {
   "cell_type": "code",
   "execution_count": 9,
   "id": "ae29a151",
   "metadata": {},
   "outputs": [],
   "source": [
    "#Iterate through each GeoJson, pair the corresponding CensusDataJson\n",
    "\n",
    "#Track Failed which could not pair\n",
    "fails =[]\n",
    "\n",
    "\n",
    "for county in geojson_data:\n",
    "    \n",
    "    #Generate the countyID as above for each GeoJson\n",
    "    geojson_county_id = county[\"properties\"]['STATE'] + county[\"properties\"]['COUNTY']\n",
    "    try:\n",
    "        #Attempts to locate any county which has the same county_id in the censusJson List\n",
    "        location = county_ids.index(str(geojson_county_id))\n",
    "        matching_county_data = counties_data[location]\n",
    "        county[\"properties\"][2018] = matching_county_data[2018]\n",
    "        county[\"properties\"][2019] = matching_county_data[2019]\n",
    "        county[\"properties\"][2020] = matching_county_data[2020]\n",
    "    except Exception:\n",
    "        \n",
    "        #If it cannot locate it stores the id for this county in the fail list\n",
    "        fails.append(geojson_county_id)"
   ]
  },
  {
   "cell_type": "code",
   "execution_count": 14,
   "id": "782420f8",
   "metadata": {},
   "outputs": [
    {
     "name": "stdout",
     "output_type": "stream",
     "text": [
      "3221\n",
      "4\n"
     ]
    }
   ],
   "source": [
    "#number of fail counties\n",
    "print(len(geojson_data))\n",
    "print(len(fails))\n"
   ]
  },
  {
   "cell_type": "code",
   "execution_count": 15,
   "id": "205578b4",
   "metadata": {},
   "outputs": [
    {
     "name": "stdout",
     "output_type": "stream",
     "text": [
      "3218\n"
     ]
    }
   ],
   "source": [
    "#Remove counties from GeoJson list which failed\n",
    "\n",
    "for county in geojson_data:\n",
    "    #Generate the countyID as above for each GeoJson\n",
    "    geojson_county_id = county[\"properties\"]['STATE'] + county[\"properties\"]['COUNTY']\n",
    "    if geojson_county_id in fails:\n",
    "        geojson_data.remove(county)\n",
    "\n",
    "#Length of final geojson_data list\n",
    "print(len(geojson_data))"
   ]
  },
  {
   "cell_type": "code",
   "execution_count": null,
   "id": "ed8d8b79",
   "metadata": {},
   "outputs": [],
   "source": []
  }
 ],
 "metadata": {
  "kernelspec": {
   "display_name": "Python 3 (ipykernel)",
   "language": "python",
   "name": "python3"
  },
  "language_info": {
   "codemirror_mode": {
    "name": "ipython",
    "version": 3
   },
   "file_extension": ".py",
   "mimetype": "text/x-python",
   "name": "python",
   "nbconvert_exporter": "python",
   "pygments_lexer": "ipython3",
   "version": "3.7.7"
  }
 },
 "nbformat": 4,
 "nbformat_minor": 5
}
